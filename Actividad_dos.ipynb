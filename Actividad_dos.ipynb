{
 "cells": [
  {
   "cell_type": "markdown",
   "id": "5eb8c005-8a3e-49b9-9a43-c9730c59cd66",
   "metadata": {},
   "source": [
    "Parte 1: Bucle for con edades\n",
    "\n",
    "Crea una lista de edades: [12, 17, 8, 15, 22, 9, 30, 25].\n",
    "\n",
    "Usa un bucle for para iterar sobre cada edad:\n",
    "\n",
    "Si la edad es 25, imprime \"¡Encontramos al estudiante de 25 años! Deteniendo el análisis.\" y termina el bucle con break.\n",
    "\n",
    "Si la edad es menor a 10, omite esa iteración con continue.\n",
    "\n",
    "Si la edad es 18 o mayor, imprime \"Adulto: [edad] años\".\n",
    "\n",
    "En cualquier otro caso, imprime \"Menor: [edad] años\"."
   ]
  },
  {
   "cell_type": "code",
   "execution_count": 2,
   "id": "d71c1b40-05f9-49c8-8909-5893f4e8fb85",
   "metadata": {},
   "outputs": [
    {
     "name": "stdout",
     "output_type": "stream",
     "text": [
      "Menor: 12 años\n",
      "Menor: 17 años\n",
      "Menor: 15 años\n",
      "Adulto: 22 años\n",
      "Adulto: 30 años\n",
      "¡Encontramos al estudiante de 25 años! Deteniendo el análisis.\n"
     ]
    }
   ],
   "source": [
    "edades = [12, 17, 8, 15, 22, 9, 30, 25]\n",
    "\n",
    "for tiempo_de_vida in edades:\n",
    "    if tiempo_de_vida == 25: \n",
    "        print (\"¡Encontramos al estudiante de 25 años! Deteniendo el análisis.\")\n",
    "        break\n",
    "    elif tiempo_de_vida<10:\n",
    "        continue\n",
    "    elif tiempo_de_vida>=18:\n",
    "        print (f\"Adulto: {tiempo_de_vida} años\")\n",
    "    else:\n",
    "        print (f\"Menor: {tiempo_de_vida} años\")\n",
    "\n",
    "        \n"
   ]
  },
  {
   "cell_type": "markdown",
   "id": "1de95d61-d12b-4460-a255-7ae7b5dd4661",
   "metadata": {},
   "source": [
    "Parte 2: Bucle while con nombres\n",
    "\n",
    "Crea una lista de nombres: [\"Juan\", \"Pedro\", \"Jorge\", \"María\",\"Ana\"].\n",
    "\n",
    "Usa un bucle while para iterar sobre los nombres:\n",
    "\n",
    "Si el nombre es \"Ana\", imprime \"¡Ana está en la lista!\" y termina el bucle con break.\n",
    "\n",
    "Si el nombre empieza con \"J\", omite ese nombre con continue.\n",
    "\n",
    "En cualquier otro caso, imprime el nombre."
   ]
  },
  {
   "cell_type": "code",
   "execution_count": 12,
   "id": "d05746a4-d5df-4f33-ac6e-233feedcf3c3",
   "metadata": {},
   "outputs": [
    {
     "name": "stdout",
     "output_type": "stream",
     "text": [
      "{'Pedro'}\n",
      "{'María'}\n",
      "¡Ana está en la lista!\n",
      "{'Ana'}\n"
     ]
    }
   ],
   "source": [
    "nombres = [\"Juan\", \"Pedro\", \"Jorge\", \"María\",\"Ana\"]\n",
    "for Alias in nombres:\n",
    "    while Alias == \"Ana\":\n",
    "        print (\"¡Ana está en la lista!\")\n",
    "        break\n",
    "    if Alias.startswith(\"J\"):\n",
    "        continue\n",
    "    else:\n",
    "         print ({Alias})\n"
   ]
  },
  {
   "cell_type": "code",
   "execution_count": null,
   "id": "235afa70-f8c8-4e4f-b85d-2d65da696300",
   "metadata": {},
   "outputs": [],
   "source": []
  }
 ],
 "metadata": {
  "kernelspec": {
   "display_name": "Python [conda env:base] *",
   "language": "python",
   "name": "conda-base-py"
  },
  "language_info": {
   "codemirror_mode": {
    "name": "ipython",
    "version": 3
   },
   "file_extension": ".py",
   "mimetype": "text/x-python",
   "name": "python",
   "nbconvert_exporter": "python",
   "pygments_lexer": "ipython3",
   "version": "3.13.5"
  }
 },
 "nbformat": 4,
 "nbformat_minor": 5
}
