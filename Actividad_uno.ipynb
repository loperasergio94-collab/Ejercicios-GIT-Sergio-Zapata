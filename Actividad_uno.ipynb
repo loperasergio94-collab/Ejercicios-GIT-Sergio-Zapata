{
 "cells": [
  {
   "cell_type": "code",
   "execution_count": 11,
   "id": "771e0b3c-8c31-4eea-96fb-196a88502ec3",
   "metadata": {},
   "outputs": [
    {
     "name": "stdout",
     "output_type": "stream",
     "text": [
      "Hay 11 unidades del producto camisa. Su precio por unidad es de 35900\n",
      "Hay 23 unidades del producto pantalón. Su precio por unidad es de 49900\n",
      "Hay 2 unidades del producto abrigo. Su precio por unidad es de 60000\n"
     ]
    }
   ],
   "source": [
    "inventario = [{\"producto\": \"camisa\", \"precio\": 25900, \"stock\": \"11\"},{\"producto\": \"pantalón\", \"precio\": 39900, \"stock\": \"23\"},]\n",
    "\n",
    "por_hacer={\"producto\": \"abrigo\", \"precio\": 50000, \"stock\": \"2\"}\n",
    "\n",
    "inventario.append(por_hacer)\n",
    "\n",
    "para_convertir = \"stock\"\n",
    "\n",
    "para_sumar = \"precio\"\n",
    "\n",
    "for diccionario in inventario:\n",
    "    diccionario[para_convertir] = int(diccionario[para_convertir])\n",
    "    diccionario[para_sumar] += 10000\n",
    "    print(f\"Hay {diccionario[para_convertir]} unidades del producto {diccionario[\"producto\"]}. Su precio por unidad es de {diccionario[para_sumar]}\")\n",
    "    \n",
    "    \n",
    "\n",
    "\n",
    "    \n",
    "\n",
    "\n",
    "\n"
   ]
  },
  {
   "cell_type": "code",
   "execution_count": null,
   "id": "de752f75-b3c4-44e0-87b7-a2fa6b8dd5a7",
   "metadata": {},
   "outputs": [],
   "source": []
  },
  {
   "cell_type": "code",
   "execution_count": null,
   "id": "4c9ae75c-b35a-41f9-9fb1-dd8b54641236",
   "metadata": {},
   "outputs": [],
   "source": []
  }
 ],
 "metadata": {
  "kernelspec": {
   "display_name": "Python [conda env:base] *",
   "language": "python",
   "name": "conda-base-py"
  },
  "language_info": {
   "codemirror_mode": {
    "name": "ipython",
    "version": 3
   },
   "file_extension": ".py",
   "mimetype": "text/x-python",
   "name": "python",
   "nbconvert_exporter": "python",
   "pygments_lexer": "ipython3",
   "version": "3.13.5"
  }
 },
 "nbformat": 4,
 "nbformat_minor": 5
}
